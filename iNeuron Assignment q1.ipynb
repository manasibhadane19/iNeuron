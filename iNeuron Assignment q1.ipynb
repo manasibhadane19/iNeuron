{
 "cells": [
  {
   "cell_type": "code",
   "execution_count": null,
   "id": "0f1445e4",
   "metadata": {},
   "outputs": [
    {
     "name": "stdout",
     "output_type": "stream",
     "text": [
      "This is a placement assignment:This is a Screening Assignment\n"
     ]
    }
   ],
   "source": [
    "Create a function in python to read the text file and replace specific content\n",
    "of the file.\n",
    "\n",
    "import sys\n",
    "import fileinput\n",
    " \n",
    "x = input(\"This is a placement assignment:\")\n",
    "y = input(\"This is a screening assignment\")\n",
    " \n",
    "for l in fileinput.input(files = \"example.txt\"):\n",
    "    l = l.replace(x, y)\n",
    "    sys.stdout.write(l)"
   ]
  },
  {
   "cell_type": "code",
   "execution_count": null,
   "id": "ab7248fb",
   "metadata": {},
   "outputs": [],
   "source": [
    "# Read in the file\n",
    "with open('example.txt', 'r') as file :\n",
    "  filedata = file.read()\n",
    "\n",
    "# Replace the target string\n",
    "filedata = filedata.replace('placement', 'screening')\n",
    "\n",
    "# Write the file out again\n",
    "with open('example.txt', 'w') as file:\n",
    "  file.write(filedata)"
   ]
  },
  {
   "cell_type": "code",
   "execution_count": null,
   "id": "0cbcb884",
   "metadata": {},
   "outputs": [],
   "source": []
  }
 ],
 "metadata": {
  "kernelspec": {
   "display_name": "Python 3 (ipykernel)",
   "language": "python",
   "name": "python3"
  },
  "language_info": {
   "codemirror_mode": {
    "name": "ipython",
    "version": 3
   },
   "file_extension": ".py",
   "mimetype": "text/x-python",
   "name": "python",
   "nbconvert_exporter": "python",
   "pygments_lexer": "ipython3",
   "version": "3.9.7"
  }
 },
 "nbformat": 4,
 "nbformat_minor": 5
}
